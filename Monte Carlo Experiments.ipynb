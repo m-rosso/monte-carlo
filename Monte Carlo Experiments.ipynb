{
 "cells": [
  {
   "cell_type": "markdown",
   "metadata": {},
   "source": [
    "## Monte Carlo experiments\n",
    "## Discussion"
   ]
  },
  {
   "cell_type": "markdown",
   "metadata": {},
   "source": [
    "*Monte Carlo experiments* are well-defined empirical contexts where simulations are applied in order to provide a statistical approach that quantifies outcomes of processes subject to uncertainty. A *Monte Carlo simulation* is given by a collection of iterations of a stochastic process modeled according to the empirical application that should be then reproduced. A *Monte Carlo method*, for its turn, consists of a technique for solving mathematical and statistical problems, usually by making use of random numbers generation.\n",
    "<br>\n",
    "<br>\n",
    "Monte Carlo simulations may have interest for both practical purposes or theoretical findings and illustrations. Some relevant theoretical findings relate the calculation of intractable integrals and optmization when some of the arguments are not deterministic, besides of usages in Physical and Biological sciences. Parameters of complex learning methods, such as Bayesian models, can be inferred from data through Monte Carlo methods. Simulations are also able to provide more understanding of theoretical results, such as the consistency of estimators. All of these categories of applications rely on the sampling from probability distributions.\n",
    "<br>\n",
    "<br>\n",
    "Since Monte Carlo simulations are implemented through computational algorithms, they are suited for contexts where it is necessary to assess outcomes from probabilistic systems whose empirical experimentation is time consuming, complex or expensive. Most practical applications introduce random sampling from probabilistic distributions to account for uncertainty in the definition of some inputs whose combination together with some mechanism produces an outcome of interest. Finance, business, and engineering Monte Carlo applications differ from \"what-if scenarios\" since a wide range of possible outcomes are produced, then implying in unequal weights for different events."
   ]
  },
  {
   "cell_type": "markdown",
   "metadata": {},
   "source": [
    "Monte Carlo experiments for practical purposes are applied for systems whose possible inputs and outputs are known, but whose determination is probabilistic, which follows mainly from the uncertainty around the inputs. The underlying process converting inputs into outputs may be: i) totally understood, given by deterministic mathematical expressions; ii) partially understood, where there is a stochastic component together with a deterministic function); and iii) unknown, where a model should be inferred from the data.\n",
    "<br>\n",
    "<br>\n",
    "The way how Monte Carlo experiments are executed depends mostly on the application, however, some main steps usually take place irrespective of the question that should be answered. The structure of a Monte Carlo simulation is depicted by the four following components:\n",
    "1. **Model the process that should be simulated:** this model is usually constructed from a set of equations characterizing one or more output variables. Such equations are called as *transfer functions*, and can be either derived from domain knowledge or can be estimated using statistical learning techniques applied over a dataset. In these equations, inputs are combined to produce outputs.\n",
    "2. **Define the inputs:** this step is the core of the simulation procedure, since random values are extracted for all input variables based on assumed probability distributions. Therefore, the inputs definition involves three tasks: i) assume one probability distribution for each input variable; ii) define parameters for each distribution; and iii) draw random values from the designed distributions.\n",
    "3. **Feed the model with inputs and produce simulated outputs:** use the model that defines the process under experimentation to produce outputs.\n",
    "4. **Analysis of results:** the distribution of outputs can then be constructed, presenting the range of possible outcomes for the process together with their likelihood. Among other statistics, the expected values for the outputs may be of special interest."
   ]
  },
  {
   "cell_type": "markdown",
   "metadata": {},
   "source": [
    "In addition to statistical techniques and programming language, available data and domain knowledge are crucial for optimizing the benefits of Monte Carlo simulations. Historical data is needed to define inputs, since it provides information on the kind of distribution and on suited values for its parameters. Domain knowledge contributes for conceiving alternative scenarios and for interpreting results, besides of ultimately developing action plans.\n",
    "<br>\n",
    "<br>\n",
    "Desiging the distribution of each (random) input variable makes use of historical data and some statistical tools. Plotting histograms helps understanding possible distributions from its format. Besides, statistical tests, such as Kolmogorov-Smirnov test, gives more robustness for defining whether a given theoretical probability theory fits the data. Once the distribution is set, its appropriate should also be inferred from data by calculating statistics such as mean and standard deviation.\n",
    "<br>\n",
    "<br>\n",
    "Practical uses of Monte Carlo methods may also have structures different from the presented above, which is likely to happen since the domain application is pretty wide. Applications within machine learning, for instance, share the stochastic ground of Monte Carlo simulation. Some relevant examples are resampling algorithms for assessing the variability of measures (bootstrapping), random search for hyper-parameters definition, ensemble learning for reducing the variability of performance metrics, and stochastic optimization algorithms."
   ]
  },
  {
   "cell_type": "markdown",
   "metadata": {},
   "source": [
    "Probability and statistics are around of all aspects of Monte Carlo methods. Not only statistics are calculated based on results of the simulation and inputs are randomly drawn from probability distributions, but this entire procedure relies on one of the most important results from probability theory: the **law of large numbers**, under which average values converge to the true expected value of the correspondent random variable. This theorem assumes a collection of observations that are independent and identically distributed, which is covered by step 2 of Monte Carlo simulation. Moreover, under the assumption of independent observations, the **central limit theorem** implies that a distribution derived from Monte Carlo simulation will approximate the Normal distribution. Consequently, hypothesis testing and confidence intervals can be performed over quantities calculated from the simulation."
   ]
  },
  {
   "cell_type": "markdown",
   "metadata": {},
   "source": [
    "**References:**\n",
    "<br>\n",
    "[Monte Carlo Methods and Simulations Explained in Real-life](https://towardsdatascience.com/monte-carlo-methods-and-simulations-explained-in-real-life-modeling-insomnia-f49685b321d0).\n",
    "<br>\n",
    "[The 4 Simple Steps for Creating a Monte Carlo Simulation with Engage or Workspace](https://blog.minitab.com/en/the-4-simple-steps-for-creating-a-monte-carlo-simulation-with-engage-or-workspace).\n",
    "<br>\n",
    "[A Gentle Introduction to Monte Carlo Sampling for Probability](https://machinelearningmastery.com/monte-carlo-sampling-for-probability/).\n",
    "<br>\n",
    "[Monte Carlo Method](https://en.wikipedia.org/wiki/Monte_Carlo_method).\n",
    "<br>\n",
    "[Monte Carlo Simulation with Python](https://pbpython.com/monte-carlo.html).\n",
    "<br>\n",
    "[Monte Carlo Simulation in Python](https://www.mikulskibartosz.name/monte-carlo-simulation-in-python/).\n",
    "<br>\n",
    "[How to Perform Monte Carlo Simulation?](https://www.analyticsvidhya.com/blog/2021/04/how-to-perform-monte-carlo-simulation/)\n",
    "<br>\n",
    "[Quantifying the Uncertainty: Monte Carlo Simulation](https://getnave.com/blog/monte-carlo-simulation/).\n",
    "<br>\n",
    "[Monte Carlo Simulations: A Simple Example](https://www.ge.com/digital/documentation/meridium/V36000/WebHelp/mergedProjects/WebHelp_Master/mergedProjects/Reliability/Monte_Carlo_Simulations__A_Simple_Example.htm).\n",
    "<br>\n",
    "[An Overview of Monte Carlo Methods](https://towardsdatascience.com/an-overview-of-monte-carlo-methods-675384eb1694).\n",
    "<br>\n",
    "[List of probability distributions](https://en.wikipedia.org/wiki/List_of_probability_distributions)."
   ]
  },
  {
   "cell_type": "code",
   "execution_count": null,
   "metadata": {},
   "outputs": [],
   "source": []
  }
 ],
 "metadata": {
  "kernelspec": {
   "display_name": "Python 3",
   "language": "python",
   "name": "python3"
  },
  "language_info": {
   "codemirror_mode": {
    "name": "ipython",
    "version": 3
   },
   "file_extension": ".py",
   "mimetype": "text/x-python",
   "name": "python",
   "nbconvert_exporter": "python",
   "pygments_lexer": "ipython3",
   "version": "3.7.3"
  }
 },
 "nbformat": 4,
 "nbformat_minor": 2
}
